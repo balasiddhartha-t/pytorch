{
 "cells": [
  {
   "cell_type": "code",
   "execution_count": 1,
   "metadata": {},
   "outputs": [
    {
     "data": {
      "image/png": "[encoded data removed]",
      "text/plain": [
       "<Figure size 432x288 with 1 Axes>"
      ]
     },
     "metadata": {
      "needs_background": "light"
     },
     "output_type": "display_data"
    }
   ],
   "source": [
    "import numpy as np\n",
    "import matplotlib.pyplot as plt\n",
    "%matplotlib inline\n",
    "\n",
    "# Creates 50 random x and y numbers\n",
    "np.random.seed(1)\n",
    "n = 50\n",
    "x = np.random.randn(n)\n",
    "y = x * np.random.randn(n)\n",
    "\n",
    "# Makes the dots colorful\n",
    "colors = np.random.rand(n)\n",
    "\n",
    "# Plots best-fit line via polyfit\n",
    "plt.plot(np.unique(x), np.poly1d(np.polyfit(x, y, 1))(np.unique(x)))\n",
    "\n",
    "# Plots the random x and y data points we created\n",
    "# Interestingly, alpha makes it more aesthetically pleasing\n",
    "plt.scatter(x, y, c=colors, alpha=0.5)\n",
    "plt.show()"
   ]
  },
  {
   "cell_type": "code",
   "execution_count": 2,
   "metadata": {},
   "outputs": [
    {
     "data": {
      "text/plain": [
       "[0, 1, 2, 3, 4, 5, 6, 7, 8, 9, 10]"
      ]
     },
     "execution_count": 2,
     "metadata": {},
     "output_type": "execute_result"
    }
   ],
   "source": [
    "x_values = [i for i in range(11)]\n",
    "x_values"
   ]
  },
  {
   "cell_type": "code",
   "execution_count": 3,
   "metadata": {},
   "outputs": [
    {
     "data": {
      "text/plain": [
       "(11,)"
      ]
     },
     "execution_count": 3,
     "metadata": {},
     "output_type": "execute_result"
    }
   ],
   "source": [
    "# Convert to numpy\n",
    "x_train = np.array(x_values, dtype=np.float32)\n",
    "x_train.shape"
   ]
  },
  {
   "cell_type": "code",
   "execution_count": 4,
   "metadata": {},
   "outputs": [
    {
     "data": {
      "text/plain": [
       "(11, 1)"
      ]
     },
     "execution_count": 4,
     "metadata": {},
     "output_type": "execute_result"
    }
   ],
   "source": [
    "# IMPORTANT: 2D required\n",
    "x_train = x_train.reshape(-1, 1)\n",
    "x_train.shape"
   ]
  },
  {
   "cell_type": "code",
   "execution_count": 5,
   "metadata": {},
   "outputs": [],
   "source": [
    "y_values = [2*i + 1 for i in x_values]"
   ]
  },
  {
   "cell_type": "code",
   "execution_count": 6,
   "metadata": {},
   "outputs": [
    {
     "data": {
      "text/plain": [
       "[1, 3, 5, 7, 9, 11, 13, 15, 17, 19, 21]"
      ]
     },
     "execution_count": 6,
     "metadata": {},
     "output_type": "execute_result"
    }
   ],
   "source": [
    "y_values"
   ]
  },
  {
   "cell_type": "code",
   "execution_count": 7,
   "metadata": {},
   "outputs": [],
   "source": [
    "# In case you're weak in list iterators...\n",
    "y_values = []\n",
    "for i in x_values:\n",
    "    result = 2*i + 1\n",
    "    y_values.append(result) "
   ]
  },
  {
   "cell_type": "code",
   "execution_count": 8,
   "metadata": {},
   "outputs": [
    {
     "data": {
      "text/plain": [
       "[1, 3, 5, 7, 9, 11, 13, 15, 17, 19, 21]"
      ]
     },
     "execution_count": 8,
     "metadata": {},
     "output_type": "execute_result"
    }
   ],
   "source": [
    "y_values"
   ]
  },
  {
   "cell_type": "code",
   "execution_count": 9,
   "metadata": {},
   "outputs": [
    {
     "data": {
      "text/plain": [
       "(11,)"
      ]
     },
     "execution_count": 9,
     "metadata": {},
     "output_type": "execute_result"
    }
   ],
   "source": [
    "y_train = np.array(y_values, dtype=np.float32)\n",
    "y_train.shape"
   ]
  },
  {
   "cell_type": "code",
   "execution_count": 10,
   "metadata": {},
   "outputs": [
    {
     "data": {
      "text/plain": [
       "(11, 1)"
      ]
     },
     "execution_count": 10,
     "metadata": {},
     "output_type": "execute_result"
    }
   ],
   "source": [
    "# IMPORTANT: 2D required\n",
    "y_train = y_train.reshape(-1, 1)\n",
    "y_train.shape"
   ]
  },
  {
   "cell_type": "code",
   "execution_count": 11,
   "metadata": {},
   "outputs": [],
   "source": [
    "import torch\n",
    "import torch.nn as nn"
   ]
  },
  {
   "cell_type": "code",
   "execution_count": 12,
   "metadata": {},
   "outputs": [],
   "source": [
    "# Create class\n",
    "class LinearRegressionModel(nn.Module):\n",
    "    def __init__(self, input_dim, output_dim):\n",
    "        super(LinearRegressionModel, self).__init__()\n",
    "        self.linear = nn.Linear(input_dim, output_dim)  \n",
    "\n",
    "    def forward(self, x):\n",
    "        out = self.linear(x)\n",
    "        return out"
   ]
  },
  {
   "cell_type": "code",
   "execution_count": 13,
   "metadata": {},
   "outputs": [],
   "source": [
    "input_dim = 1\n",
    "output_dim = 1\n",
    "\n",
    "model = LinearRegressionModel(input_dim, output_dim)"
   ]
  },
  {
   "cell_type": "code",
   "execution_count": 14,
   "metadata": {},
   "outputs": [],
   "source": [
    "criterion = nn.MSELoss()"
   ]
  },
  {
   "cell_type": "code",
   "execution_count": 15,
   "metadata": {},
   "outputs": [],
   "source": [
    "learning_rate = 0.01\n",
    "\n",
    "optimizer = torch.optim.SGD(model.parameters(), lr=learning_rate)"
   ]
  },
  {
   "cell_type": "code",
   "execution_count": 16,
   "metadata": {},
   "outputs": [],
   "source": [
    "epochs = 100"
   ]
  },
  {
   "cell_type": "code",
   "execution_count": 17,
   "metadata": {},
   "outputs": [
    {
     "name": "stdout",
     "output_type": "stream",
     "text": [
      "epoch 1, loss 300.4488220214844\n",
      "epoch 2, loss 24.708349227905273\n",
      "epoch 3, loss 2.214810609817505\n",
      "epoch 4, loss 0.3778553903102875\n",
      "epoch 5, loss 0.22581888735294342\n",
      "epoch 6, loss 0.2112402617931366\n",
      "epoch 7, loss 0.20789799094200134\n",
      "epoch 8, loss 0.20549605786800385\n",
      "epoch 9, loss 0.2031947374343872\n",
      "epoch 10, loss 0.20092542469501495\n",
      "epoch 11, loss 0.19868148863315582\n",
      "epoch 12, loss 0.1964627504348755\n",
      "epoch 13, loss 0.1942690908908844\n",
      "epoch 14, loss 0.19209954142570496\n",
      "epoch 15, loss 0.18995456397533417\n",
      "epoch 16, loss 0.18783308565616608\n",
      "epoch 17, loss 0.18573564291000366\n",
      "epoch 18, loss 0.18366171419620514\n",
      "epoch 19, loss 0.18161062896251678\n",
      "epoch 20, loss 0.17958283424377441\n",
      "epoch 21, loss 0.17757736146450043\n",
      "epoch 22, loss 0.175594300031662\n",
      "epoch 23, loss 0.1736336350440979\n",
      "epoch 24, loss 0.1716945469379425\n",
      "epoch 25, loss 0.1697774976491928\n",
      "epoch 26, loss 0.16788138449192047\n",
      "epoch 27, loss 0.16600669920444489\n",
      "epoch 28, loss 0.16415300965309143\n",
      "epoch 29, loss 0.16231997311115265\n",
      "epoch 30, loss 0.16050730645656586\n",
      "epoch 31, loss 0.15871500968933105\n",
      "epoch 32, loss 0.156942680478096\n",
      "epoch 33, loss 0.15518996119499207\n",
      "epoch 34, loss 0.1534571647644043\n",
      "epoch 35, loss 0.15174344182014465\n",
      "epoch 36, loss 0.15004900097846985\n",
      "epoch 37, loss 0.14837336540222168\n",
      "epoch 38, loss 0.14671659469604492\n",
      "epoch 39, loss 0.14507810771465302\n",
      "epoch 40, loss 0.1434582620859146\n",
      "epoch 41, loss 0.14185628294944763\n",
      "epoch 42, loss 0.14027203619480133\n",
      "epoch 43, loss 0.1387058049440384\n",
      "epoch 44, loss 0.1371569037437439\n",
      "epoch 45, loss 0.13562503457069397\n",
      "epoch 46, loss 0.1341107040643692\n",
      "epoch 47, loss 0.13261301815509796\n",
      "epoch 48, loss 0.13113221526145935\n",
      "epoch 49, loss 0.12966786324977875\n",
      "epoch 50, loss 0.12821993231773376\n",
      "epoch 51, loss 0.12678810954093933\n",
      "epoch 52, loss 0.12537209689617157\n",
      "epoch 53, loss 0.12397217750549316\n",
      "epoch 54, loss 0.12258780747652054\n",
      "epoch 55, loss 0.12121894955635071\n",
      "epoch 56, loss 0.1198652908205986\n",
      "epoch 57, loss 0.11852677911520004\n",
      "epoch 58, loss 0.11720330268144608\n",
      "epoch 59, loss 0.11589451879262924\n",
      "epoch 60, loss 0.11460021883249283\n",
      "epoch 61, loss 0.11332052201032639\n",
      "epoch 62, loss 0.11205506324768066\n",
      "epoch 63, loss 0.11080382019281387\n",
      "epoch 64, loss 0.10956639796495438\n",
      "epoch 65, loss 0.10834303498268127\n",
      "epoch 66, loss 0.10713304579257965\n",
      "epoch 67, loss 0.10593684762716293\n",
      "epoch 68, loss 0.1047537699341774\n",
      "epoch 69, loss 0.103583924472332\n",
      "epoch 70, loss 0.1024274006485939\n",
      "epoch 71, loss 0.10128351300954819\n",
      "epoch 72, loss 0.1001524031162262\n",
      "epoch 73, loss 0.0990341380238533\n",
      "epoch 74, loss 0.09792816638946533\n",
      "epoch 75, loss 0.09683459997177124\n",
      "epoch 76, loss 0.09575328975915909\n",
      "epoch 77, loss 0.09468398243188858\n",
      "epoch 78, loss 0.0936267226934433\n",
      "epoch 79, loss 0.09258131682872772\n",
      "epoch 80, loss 0.09154731035232544\n",
      "epoch 81, loss 0.0905250832438469\n",
      "epoch 82, loss 0.08951418846845627\n",
      "epoch 83, loss 0.08851458877325058\n",
      "epoch 84, loss 0.08752620220184326\n",
      "epoch 85, loss 0.08654893189668655\n",
      "epoch 86, loss 0.08558233082294464\n",
      "epoch 87, loss 0.08462677150964737\n",
      "epoch 88, loss 0.083681620657444\n",
      "epoch 89, loss 0.08274725824594498\n",
      "epoch 90, loss 0.08182306587696075\n",
      "epoch 91, loss 0.08090939372777939\n",
      "epoch 92, loss 0.08000586181879044\n",
      "epoch 93, loss 0.07911240309476852\n",
      "epoch 94, loss 0.07822902500629425\n",
      "epoch 95, loss 0.07735549658536911\n",
      "epoch 96, loss 0.07649167627096176\n",
      "epoch 97, loss 0.07563748210668564\n",
      "epoch 98, loss 0.07479285448789597\n",
      "epoch 99, loss 0.07395767420530319\n",
      "epoch 100, loss 0.07313192635774612\n"
     ]
    }
   ],
   "source": [
    "for epoch in range(epochs):\n",
    "    epoch += 1\n",
    "    # Convert numpy array to torch Variable\n",
    "    inputs = torch.from_numpy(x_train).requires_grad_()\n",
    "    labels = torch.from_numpy(y_train)\n",
    "\n",
    "    # Clear gradients w.r.t. parameters\n",
    "    optimizer.zero_grad() \n",
    "\n",
    "    # Forward to get output\n",
    "    outputs = model(inputs)\n",
    "\n",
    "    # Calculate Loss\n",
    "    loss = criterion(outputs, labels)\n",
    "\n",
    "    # Getting gradients w.r.t. parameters\n",
    "    loss.backward()\n",
    "\n",
    "    # Updating parameters\n",
    "    optimizer.step()\n",
    "\n",
    "    print('epoch {}, loss {}'.format(epoch, loss.item()))"
   ]
  },
  {
   "cell_type": "code",
   "execution_count": 18,
   "metadata": {},
   "outputs": [
    {
     "data": {
      "text/plain": [
       "array([[ 0.49694738],\n",
       "       [ 2.5693915 ],\n",
       "       [ 4.6418357 ],\n",
       "       [ 6.71428   ],\n",
       "       [ 8.786724  ],\n",
       "       [10.859168  ],\n",
       "       [12.931613  ],\n",
       "       [15.004057  ],\n",
       "       [17.076502  ],\n",
       "       [19.148947  ],\n",
       "       [21.22139   ]], dtype=float32)"
      ]
     },
     "execution_count": 18,
     "metadata": {},
     "output_type": "execute_result"
    }
   ],
   "source": [
    "# Purely inference\n",
    "predicted = model(torch.from_numpy(x_train).requires_grad_()).data.numpy()\n",
    "predicted"
   ]
  },
  {
   "cell_type": "code",
   "execution_count": null,
   "metadata": {},
   "outputs": [],
   "source": []
  }
 ],
 "metadata": {
  "kernelspec": {
   "display_name": "Python 3",
   "language": "python",
   "name": "python3"
  },
  "language_info": {
   "codemirror_mode": {
    "name": "ipython",
    "version": 3
   },
   "file_extension": ".py",
   "mimetype": "text/x-python",
   "name": "python",
   "nbconvert_exporter": "python",
   "pygments_lexer": "ipython3",
   "version": "3.6.6"
  }
 },
 "nbformat": 4,
 "nbformat_minor": 2
}
