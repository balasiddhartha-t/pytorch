{
 "cells": [
  {
   "cell_type": "code",
   "execution_count": 1,
   "metadata": {},
   "outputs": [
    {
     "data": {
      "image/png": "[encoded data removed]",
      "text/plain": [
       "<Figure size 432x288 with 1 Axes>"
      ]
     },
     "metadata": {
      "needs_background": "light"
     },
     "output_type": "display_data"
    }
   ],
   "source": [
    "import numpy as np\n",
    "import matplotlib.pyplot as plt\n",
    "%matplotlib inline\n",
    "\n",
    "# Creates 50 random x and y numbers\n",
    "np.random.seed(1)\n",
    "n = 50\n",
    "x = np.random.randn(n)\n",
    "y = x * np.random.randn(n)\n",
    "\n",
    "# Makes the dots colorful\n",
    "colors = np.random.rand(n)\n",
    "\n",
    "# Plots best-fit line via polyfit\n",
    "plt.plot(np.unique(x), np.poly1d(np.polyfit(x, y, 1))(np.unique(x)))\n",
    "\n",
    "# Plots the random x and y data points we created\n",
    "# Interestingly, alpha makes it more aesthetically pleasing\n",
    "plt.scatter(x, y, c=colors, alpha=0.5)\n",
    "plt.show()"
   ]
  },
  {
   "cell_type": "code",
   "execution_count": 2,
   "metadata": {},
   "outputs": [
    {
     "data": {
      "text/plain": [
       "[0, 1, 2, 3, 4, 5, 6, 7, 8, 9, 10]"
      ]
     },
     "execution_count": 2,
     "metadata": {},
     "output_type": "execute_result"
    }
   ],
   "source": [
    "x_values = [i for i in range(11)]\n",
    "x_values"
   ]
  },
  {
   "cell_type": "code",
   "execution_count": 3,
   "metadata": {},
   "outputs": [
    {
     "data": {
      "text/plain": [
       "(11,)"
      ]
     },
     "execution_count": 3,
     "metadata": {},
     "output_type": "execute_result"
    }
   ],
   "source": [
    "# Convert to numpy\n",
    "x_train = np.array(x_values, dtype=np.float32)\n",
    "x_train.shape"
   ]
  },
  {
   "cell_type": "code",
   "execution_count": 4,
   "metadata": {},
   "outputs": [
    {
     "data": {
      "text/plain": [
       "(11, 1)"
      ]
     },
     "execution_count": 4,
     "metadata": {},
     "output_type": "execute_result"
    }
   ],
   "source": [
    "# IMPORTANT: 2D required\n",
    "x_train = x_train.reshape(-1, 1)\n",
    "x_train.shape"
   ]
  },
  {
   "cell_type": "code",
   "execution_count": 5,
   "metadata": {},
   "outputs": [],
   "source": [
    "y_values = [2*i + 1 for i in x_values]"
   ]
  },
  {
   "cell_type": "code",
   "execution_count": 6,
   "metadata": {},
   "outputs": [
    {
     "data": {
      "text/plain": [
       "[1, 3, 5, 7, 9, 11, 13, 15, 17, 19, 21]"
      ]
     },
     "execution_count": 6,
     "metadata": {},
     "output_type": "execute_result"
    }
   ],
   "source": [
    "y_values"
   ]
  },
  {
   "cell_type": "code",
   "execution_count": 7,
   "metadata": {},
   "outputs": [],
   "source": [
    "# In case you're weak in list iterators...\n",
    "y_values = []\n",
    "for i in x_values:\n",
    "    result = 2*i + 1\n",
    "    y_values.append(result) "
   ]
  },
  {
   "cell_type": "code",
   "execution_count": 8,
   "metadata": {},
   "outputs": [
    {
     "data": {
      "text/plain": [
       "[1, 3, 5, 7, 9, 11, 13, 15, 17, 19, 21]"
      ]
     },
     "execution_count": 8,
     "metadata": {},
     "output_type": "execute_result"
    }
   ],
   "source": [
    "y_values"
   ]
  },
  {
   "cell_type": "code",
   "execution_count": 9,
   "metadata": {},
   "outputs": [
    {
     "data": {
      "text/plain": [
       "(11,)"
      ]
     },
     "execution_count": 9,
     "metadata": {},
     "output_type": "execute_result"
    }
   ],
   "source": [
    "y_train = np.array(y_values, dtype=np.float32)\n",
    "y_train.shape"
   ]
  },
  {
   "cell_type": "code",
   "execution_count": 10,
   "metadata": {},
   "outputs": [
    {
     "data": {
      "text/plain": [
       "(11, 1)"
      ]
     },
     "execution_count": 10,
     "metadata": {},
     "output_type": "execute_result"
    }
   ],
   "source": [
    "# IMPORTANT: 2D required\n",
    "y_train = y_train.reshape(-1, 1)\n",
    "y_train.shape"
   ]
  },
  {
   "cell_type": "code",
   "execution_count": 11,
   "metadata": {},
   "outputs": [],
   "source": [
    "import torch\n",
    "import torch.nn as nn"
   ]
  },
  {
   "cell_type": "code",
   "execution_count": 12,
   "metadata": {},
   "outputs": [],
   "source": [
    "# Create class\n",
    "class LinearRegressionModel(nn.Module):\n",
    "    def __init__(self, input_dim, output_dim):\n",
    "        super(LinearRegressionModel, self).__init__()\n",
    "        self.linear = nn.Linear(input_dim, output_dim)  \n",
    "\n",
    "    def forward(self, x):\n",
    "        out = self.linear(x)\n",
    "        return out"
   ]
  },
  {
   "cell_type": "code",
   "execution_count": 13,
   "metadata": {},
   "outputs": [],
   "source": [
    "input_dim = 1\n",
    "output_dim = 1\n",
    "\n",
    "model = LinearRegressionModel(input_dim, output_dim)"
   ]
  },
  {
   "cell_type": "code",
   "execution_count": 14,
   "metadata": {},
   "outputs": [],
   "source": [
    "criterion = nn.MSELoss()"
   ]
  },
  {
   "cell_type": "code",
   "execution_count": 15,
   "metadata": {},
   "outputs": [],
   "source": [
    "learning_rate = 0.01\n",
    "\n",
    "optimizer = torch.optim.SGD(model.parameters(), lr=learning_rate)"
   ]
  },
  {
   "cell_type": "code",
   "execution_count": 16,
   "metadata": {},
   "outputs": [],
   "source": [
    "epochs = 100"
   ]
  },
  {
   "cell_type": "code",
   "execution_count": 17,
   "metadata": {},
   "outputs": [
    {
     "name": "stdout",
     "output_type": "stream",
     "text": [
      "epoch 1, loss 149.8396453857422\n",
      "epoch 2, loss 12.855883598327637\n",
      "epoch 3, loss 1.6754722595214844\n",
      "epoch 4, loss 0.756521463394165\n",
      "epoch 5, loss 0.6746435165405273\n",
      "epoch 6, loss 0.6611205339431763\n",
      "epoch 7, loss 0.6532489657402039\n",
      "epoch 8, loss 0.6459146738052368\n",
      "epoch 9, loss 0.6386983394622803\n",
      "epoch 10, loss 0.6315658092498779\n",
      "epoch 11, loss 0.6245134472846985\n",
      "epoch 12, loss 0.6175394058227539\n",
      "epoch 13, loss 0.610643744468689\n",
      "epoch 14, loss 0.6038244366645813\n",
      "epoch 15, loss 0.5970818400382996\n",
      "epoch 16, loss 0.5904141068458557\n",
      "epoch 17, loss 0.5838210582733154\n",
      "epoch 18, loss 0.5773018598556519\n",
      "epoch 19, loss 0.5708550810813904\n",
      "epoch 20, loss 0.5644803643226624\n",
      "epoch 21, loss 0.5581770539283752\n",
      "epoch 22, loss 0.5519440174102783\n",
      "epoch 23, loss 0.5457807183265686\n",
      "epoch 24, loss 0.5396856665611267\n",
      "epoch 25, loss 0.5336594581604004\n",
      "epoch 26, loss 0.527699887752533\n",
      "epoch 27, loss 0.5218068957328796\n",
      "epoch 28, loss 0.5159802436828613\n",
      "epoch 29, loss 0.5102184414863586\n",
      "epoch 30, loss 0.5045207142829895\n",
      "epoch 31, loss 0.49888697266578674\n",
      "epoch 32, loss 0.49331608414649963\n",
      "epoch 33, loss 0.48780733346939087\n",
      "epoch 34, loss 0.48235976696014404\n",
      "epoch 35, loss 0.476973295211792\n",
      "epoch 36, loss 0.47164708375930786\n",
      "epoch 37, loss 0.4663805067539215\n",
      "epoch 38, loss 0.4611724615097046\n",
      "epoch 39, loss 0.4560224711894989\n",
      "epoch 40, loss 0.45093053579330444\n",
      "epoch 41, loss 0.44589465856552124\n",
      "epoch 42, loss 0.4409155249595642\n",
      "epoch 43, loss 0.4359920024871826\n",
      "epoch 44, loss 0.43112289905548096\n",
      "epoch 45, loss 0.42630887031555176\n",
      "epoch 46, loss 0.42154863476753235\n",
      "epoch 47, loss 0.4168410003185272\n",
      "epoch 48, loss 0.4121863842010498\n",
      "epoch 49, loss 0.40758344531059265\n",
      "epoch 50, loss 0.40303197503089905\n",
      "epoch 51, loss 0.3985311985015869\n",
      "epoch 52, loss 0.39408108592033386\n",
      "epoch 53, loss 0.3896801471710205\n",
      "epoch 54, loss 0.3853287100791931\n",
      "epoch 55, loss 0.38102608919143677\n",
      "epoch 56, loss 0.37677109241485596\n",
      "epoch 57, loss 0.37256383895874023\n",
      "epoch 58, loss 0.36840322613716125\n",
      "epoch 59, loss 0.3642897307872772\n",
      "epoch 60, loss 0.36022138595581055\n",
      "epoch 61, loss 0.35619908571243286\n",
      "epoch 62, loss 0.3522212505340576\n",
      "epoch 63, loss 0.3482878804206848\n",
      "epoch 64, loss 0.3443988263607025\n",
      "epoch 65, loss 0.34055304527282715\n",
      "epoch 66, loss 0.336750328540802\n",
      "epoch 67, loss 0.3329896628856659\n",
      "epoch 68, loss 0.3292713761329651\n",
      "epoch 69, loss 0.32559436559677124\n",
      "epoch 70, loss 0.3219585418701172\n",
      "epoch 71, loss 0.3183634877204895\n",
      "epoch 72, loss 0.31480807065963745\n",
      "epoch 73, loss 0.3112926483154297\n",
      "epoch 74, loss 0.30781662464141846\n",
      "epoch 75, loss 0.3043791949748993\n",
      "epoch 76, loss 0.3009801208972931\n",
      "epoch 77, loss 0.2976192533969879\n",
      "epoch 78, loss 0.2942957878112793\n",
      "epoch 79, loss 0.2910093665122986\n",
      "epoch 80, loss 0.2877596318721771\n",
      "epoch 81, loss 0.2845463454723358\n",
      "epoch 82, loss 0.28136879205703735\n",
      "epoch 83, loss 0.27822670340538025\n",
      "epoch 84, loss 0.2751198709011078\n",
      "epoch 85, loss 0.27204763889312744\n",
      "epoch 86, loss 0.26901009678840637\n",
      "epoch 87, loss 0.26600581407546997\n",
      "epoch 88, loss 0.26303547620773315\n",
      "epoch 89, loss 0.260097861289978\n",
      "epoch 90, loss 0.2571936845779419\n",
      "epoch 91, loss 0.2543216645717621\n",
      "epoch 92, loss 0.2514815032482147\n",
      "epoch 93, loss 0.24867327511310577\n",
      "epoch 94, loss 0.24589653313159943\n",
      "epoch 95, loss 0.24315069615840912\n",
      "epoch 96, loss 0.24043554067611694\n",
      "epoch 97, loss 0.2377503514289856\n",
      "epoch 98, loss 0.2350955456495285\n",
      "epoch 99, loss 0.23247002065181732\n",
      "epoch 100, loss 0.22987431287765503\n"
     ]
    }
   ],
   "source": [
    "for epoch in range(epochs):\n",
    "    epoch += 1\n",
    "    # Convert numpy array to torch Variable\n",
    "    inputs = torch.from_numpy(x_train).requires_grad_()\n",
    "    labels = torch.from_numpy(y_train)\n",
    "\n",
    "    # Clear gradients w.r.t. parameters\n",
    "    optimizer.zero_grad() \n",
    "\n",
    "    # Forward to get output\n",
    "    outputs = model(inputs)\n",
    "\n",
    "    # Calculate Loss\n",
    "    loss = criterion(outputs, labels)\n",
    "\n",
    "    # Getting gradients w.r.t. parameters\n",
    "    loss.backward()\n",
    "\n",
    "    # Updating parameters\n",
    "    optimizer.step()\n",
    "\n",
    "    print('epoch {}, loss {}'.format(epoch, loss.item()))"
   ]
  },
  {
   "cell_type": "code",
   "execution_count": 18,
   "metadata": {},
   "outputs": [
    {
     "data": {
      "text/plain": [
       "array([[ 0.10812204],\n",
       "       [ 2.2365606 ],\n",
       "       [ 4.364999  ],\n",
       "       [ 6.4934373 ],\n",
       "       [ 8.621876  ],\n",
       "       [10.750315  ],\n",
       "       [12.878753  ],\n",
       "       [15.007191  ],\n",
       "       [17.13563   ],\n",
       "       [19.264069  ],\n",
       "       [21.392508  ]], dtype=float32)"
      ]
     },
     "execution_count": 18,
     "metadata": {},
     "output_type": "execute_result"
    }
   ],
   "source": [
    "# Purely inference\n",
    "predicted = model(torch.from_numpy(x_train).requires_grad_()).data.numpy()\n",
    "predicted"
   ]
  },
  {
   "cell_type": "code",
   "execution_count": 19,
   "metadata": {},
   "outputs": [
    {
     "data": {
      "text/plain": [
       "array([[ 1.],\n",
       "       [ 3.],\n",
       "       [ 5.],\n",
       "       [ 7.],\n",
       "       [ 9.],\n",
       "       [11.],\n",
       "       [13.],\n",
       "       [15.],\n",
       "       [17.],\n",
       "       [19.],\n",
       "       [21.]], dtype=float32)"
      ]
     },
     "execution_count": 19,
     "metadata": {},
     "output_type": "execute_result"
    }
   ],
   "source": [
    "y_train"
   ]
  },
  {
   "cell_type": "code",
   "execution_count": 20,
   "metadata": {},
   "outputs": [
    {
     "data": {
      "image/png": "[encoded data removed]",
      "text/plain": [
       "<Figure size 432x288 with 1 Axes>"
      ]
     },
     "metadata": {
      "needs_background": "light"
     },
     "output_type": "display_data"
    }
   ],
   "source": [
    "# Clear figure\n",
    "plt.clf()\n",
    "\n",
    "# Get predictions\n",
    "predicted = model(torch.from_numpy(x_train).requires_grad_()).data.numpy()\n",
    "\n",
    "# Plot true data\n",
    "plt.plot(x_train, y_train, 'go', label='True data', alpha=0.5)\n",
    "\n",
    "# Plot predictions\n",
    "plt.plot(x_train, predicted, '--', label='Predictions', alpha=0.5)\n",
    "\n",
    "# Legend and plot\n",
    "plt.legend(loc='best')\n",
    "plt.show()"
   ]
  },
  {
   "cell_type": "code",
   "execution_count": 22,
   "metadata": {},
   "outputs": [],
   "source": [
    "save_model = False\n",
    "if save_model is True:\n",
    "    # Saves only parameters\n",
    "    # alpha & beta\n",
    "    torch.save(model.state_dict(), 'awesome_model.pkl')"
   ]
  },
  {
   "cell_type": "code",
   "execution_count": 23,
   "metadata": {},
   "outputs": [],
   "source": [
    "load_model = False\n",
    "if load_model is True:\n",
    "    model.load_state_dict(torch.load('awesome_model.pkl'))"
   ]
  },
  {
   "cell_type": "code",
   "execution_count": null,
   "metadata": {},
   "outputs": [],
   "source": []
  }
 ],
 "metadata": {
  "kernelspec": {
   "display_name": "Python 3",
   "language": "python",
   "name": "python3"
  },
  "language_info": {
   "codemirror_mode": {
    "name": "ipython",
    "version": 3
   },
   "file_extension": ".py",
   "mimetype": "text/x-python",
   "name": "python",
   "nbconvert_exporter": "python",
   "pygments_lexer": "ipython3",
   "version": "3.6.6"
  }
 },
 "nbformat": 4,
 "nbformat_minor": 2
}
