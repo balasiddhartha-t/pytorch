{
 "cells": [
  {
   "cell_type": "code",
   "execution_count": 1,
   "metadata": {},
   "outputs": [
    {
     "data": {
      "image/png": "[encoded data removed]",
      "text/plain": [
       "<Figure size 432x288 with 1 Axes>"
      ]
     },
     "metadata": {
      "needs_background": "light"
     },
     "output_type": "display_data"
    }
   ],
   "source": [
    "import numpy as np\n",
    "import matplotlib.pyplot as plt\n",
    "%matplotlib inline\n",
    "\n",
    "x = [1, 5, 10, 10, 25, 50, 70, 75, 100,]\n",
    "y = [0, 0, 0, 0, 0, 1, 1, 1, 1]\n",
    "\n",
    "colors = np.random.rand(len(x))\n",
    "plt.plot(np.unique(x), np.poly1d(np.polyfit(x, y, 1))(np.unique(x)))\n",
    "plt.ylabel(\"Fever\")\n",
    "plt.xlabel(\"Temperature\")\n",
    "\n",
    "plt.scatter(x, y, c=colors, alpha=0.5)\n",
    "plt.show()"
   ]
  },
  {
   "cell_type": "code",
   "execution_count": 2,
   "metadata": {},
   "outputs": [
    {
     "data": {
      "image/png": "[encoded data removed]",
      "text/plain": [
       "<Figure size 432x288 with 1 Axes>"
      ]
     },
     "metadata": {
      "needs_background": "light"
     },
     "output_type": "display_data"
    }
   ],
   "source": [
    "import numpy as np\n",
    "import matplotlib.pyplot as plt\n",
    "\n",
    "x = [1, 5, 10, 10, 25, 50, 70, 75, 300]\n",
    "y = [0, 0, 0, 0, 0, 1, 1, 1, 1]\n",
    "\n",
    "colors = np.random.rand(len(x))\n",
    "plt.plot(np.unique(x), np.poly1d(np.polyfit(x, y, 1))(np.unique(x)))\n",
    "plt.ylabel(\"Fever\")\n",
    "plt.xlabel(\"Temperature\")\n",
    "\n",
    "plt.scatter(x, y, c=colors, alpha=0.5)\n",
    "plt.show()"
   ]
  },
  {
   "cell_type": "code",
   "execution_count": 3,
   "metadata": {},
   "outputs": [
    {
     "name": "stdout",
     "output_type": "stream",
     "text": [
      "1.0000050000287824e-05\n"
     ]
    }
   ],
   "source": [
    "import math\n",
    "print(-math.log(1 - 0.00001))"
   ]
  },
  {
   "cell_type": "code",
   "execution_count": 4,
   "metadata": {},
   "outputs": [],
   "source": [
    "import torch\n",
    "import torch.nn as nn\n",
    "import torchvision.transforms as transforms\n",
    "import torchvision.datasets as dsets"
   ]
  },
  {
   "cell_type": "code",
   "execution_count": 6,
   "metadata": {
    "scrolled": true
   },
   "outputs": [
    {
     "name": "stdout",
     "output_type": "stream",
     "text": [
      "Downloading http://yann.lecun.com/exdb/mnist/train-images-idx3-ubyte.gz to ./data\\MNIST\\raw\\train-images-idx3-ubyte.gz\n"
     ]
    },
    {
     "name": "stderr",
     "output_type": "stream",
     "text": [
      "100.1%"
     ]
    },
    {
     "name": "stdout",
     "output_type": "stream",
     "text": [
      "Extracting ./data\\MNIST\\raw\\train-images-idx3-ubyte.gz\n",
      "Downloading http://yann.lecun.com/exdb/mnist/train-labels-idx1-ubyte.gz to ./data\\MNIST\\raw\\train-labels-idx1-ubyte.gz\n"
     ]
    },
    {
     "name": "stderr",
     "output_type": "stream",
     "text": [
      "113.5%"
     ]
    },
    {
     "name": "stdout",
     "output_type": "stream",
     "text": [
      "Extracting ./data\\MNIST\\raw\\train-labels-idx1-ubyte.gz\n",
      "Downloading http://yann.lecun.com/exdb/mnist/t10k-images-idx3-ubyte.gz to ./data\\MNIST\\raw\\t10k-images-idx3-ubyte.gz\n"
     ]
    },
    {
     "name": "stderr",
     "output_type": "stream",
     "text": [
      "100.4%"
     ]
    },
    {
     "name": "stdout",
     "output_type": "stream",
     "text": [
      "Extracting ./data\\MNIST\\raw\\t10k-images-idx3-ubyte.gz\n",
      "Downloading http://yann.lecun.com/exdb/mnist/t10k-labels-idx1-ubyte.gz to ./data\\MNIST\\raw\\t10k-labels-idx1-ubyte.gz\n"
     ]
    },
    {
     "name": "stderr",
     "output_type": "stream",
     "text": [
      "180.4%"
     ]
    },
    {
     "name": "stdout",
     "output_type": "stream",
     "text": [
      "Extracting ./data\\MNIST\\raw\\t10k-labels-idx1-ubyte.gz\n",
      "Processing...\n",
      "Done!\n"
     ]
    }
   ],
   "source": [
    "train_dataset = dsets.MNIST(root='./data', \n",
    "                            train=True, \n",
    "                            transform=transforms.ToTensor(),\n",
    "                            download=True)"
   ]
  },
  {
   "cell_type": "code",
   "execution_count": 7,
   "metadata": {},
   "outputs": [
    {
     "data": {
      "text/plain": [
       "60000"
      ]
     },
     "execution_count": 7,
     "metadata": {},
     "output_type": "execute_result"
    }
   ],
   "source": [
    "len(train_dataset)"
   ]
  },
  {
   "cell_type": "code",
   "execution_count": 8,
   "metadata": {},
   "outputs": [
    {
     "data": {
      "text/plain": [
       "(tensor([[[0.0000, 0.0000, 0.0000, 0.0000, 0.0000, 0.0000, 0.0000, 0.0000,\n",
       "           0.0000, 0.0000, 0.0000, 0.0000, 0.0000, 0.0000, 0.0000, 0.0000,\n",
       "           0.0000, 0.0000, 0.0000, 0.0000, 0.0000, 0.0000, 0.0000, 0.0000,\n",
       "           0.0000, 0.0000, 0.0000, 0.0000],\n",
       "          [0.0000, 0.0000, 0.0000, 0.0000, 0.0000, 0.0000, 0.0000, 0.0000,\n",
       "           0.0000, 0.0000, 0.0000, 0.0000, 0.0000, 0.0000, 0.0000, 0.0000,\n",
       "           0.0000, 0.0000, 0.0000, 0.0000, 0.0000, 0.0000, 0.0000, 0.0000,\n",
       "           0.0000, 0.0000, 0.0000, 0.0000],\n",
       "          [0.0000, 0.0000, 0.0000, 0.0000, 0.0000, 0.0000, 0.0000, 0.0000,\n",
       "           0.0000, 0.0000, 0.0000, 0.0000, 0.0000, 0.0000, 0.0000, 0.0000,\n",
       "           0.0000, 0.0000, 0.0000, 0.0000, 0.0000, 0.0000, 0.0000, 0.0000,\n",
       "           0.0000, 0.0000, 0.0000, 0.0000],\n",
       "          [0.0000, 0.0000, 0.0000, 0.0000, 0.0000, 0.0000, 0.0000, 0.0000,\n",
       "           0.0000, 0.0000, 0.0000, 0.0000, 0.0000, 0.0000, 0.0000, 0.0000,\n",
       "           0.0000, 0.0000, 0.0000, 0.0000, 0.0000, 0.0000, 0.0000, 0.0000,\n",
       "           0.0000, 0.0000, 0.0000, 0.0000],\n",
       "          [0.0000, 0.0000, 0.0000, 0.0000, 0.0000, 0.0000, 0.0000, 0.0000,\n",
       "           0.0000, 0.0000, 0.0000, 0.0000, 0.0000, 0.0000, 0.0000, 0.0000,\n",
       "           0.0000, 0.0000, 0.0000, 0.0000, 0.0000, 0.0000, 0.0000, 0.0000,\n",
       "           0.0000, 0.0000, 0.0000, 0.0000],\n",
       "          [0.0000, 0.0000, 0.0000, 0.0000, 0.0000, 0.0000, 0.0000, 0.0000,\n",
       "           0.0000, 0.0000, 0.0000, 0.0000, 0.0118, 0.0706, 0.0706, 0.0706,\n",
       "           0.4941, 0.5333, 0.6863, 0.1020, 0.6510, 1.0000, 0.9686, 0.4980,\n",
       "           0.0000, 0.0000, 0.0000, 0.0000],\n",
       "          [0.0000, 0.0000, 0.0000, 0.0000, 0.0000, 0.0000, 0.0000, 0.0000,\n",
       "           0.1176, 0.1412, 0.3686, 0.6039, 0.6667, 0.9922, 0.9922, 0.9922,\n",
       "           0.9922, 0.9922, 0.8824, 0.6745, 0.9922, 0.9490, 0.7647, 0.2510,\n",
       "           0.0000, 0.0000, 0.0000, 0.0000],\n",
       "          [0.0000, 0.0000, 0.0000, 0.0000, 0.0000, 0.0000, 0.0000, 0.1922,\n",
       "           0.9333, 0.9922, 0.9922, 0.9922, 0.9922, 0.9922, 0.9922, 0.9922,\n",
       "           0.9922, 0.9843, 0.3647, 0.3216, 0.3216, 0.2196, 0.1529, 0.0000,\n",
       "           0.0000, 0.0000, 0.0000, 0.0000],\n",
       "          [0.0000, 0.0000, 0.0000, 0.0000, 0.0000, 0.0000, 0.0000, 0.0706,\n",
       "           0.8588, 0.9922, 0.9922, 0.9922, 0.9922, 0.9922, 0.7765, 0.7137,\n",
       "           0.9686, 0.9451, 0.0000, 0.0000, 0.0000, 0.0000, 0.0000, 0.0000,\n",
       "           0.0000, 0.0000, 0.0000, 0.0000],\n",
       "          [0.0000, 0.0000, 0.0000, 0.0000, 0.0000, 0.0000, 0.0000, 0.0000,\n",
       "           0.3137, 0.6118, 0.4196, 0.9922, 0.9922, 0.8039, 0.0431, 0.0000,\n",
       "           0.1686, 0.6039, 0.0000, 0.0000, 0.0000, 0.0000, 0.0000, 0.0000,\n",
       "           0.0000, 0.0000, 0.0000, 0.0000],\n",
       "          [0.0000, 0.0000, 0.0000, 0.0000, 0.0000, 0.0000, 0.0000, 0.0000,\n",
       "           0.0000, 0.0549, 0.0039, 0.6039, 0.9922, 0.3529, 0.0000, 0.0000,\n",
       "           0.0000, 0.0000, 0.0000, 0.0000, 0.0000, 0.0000, 0.0000, 0.0000,\n",
       "           0.0000, 0.0000, 0.0000, 0.0000],\n",
       "          [0.0000, 0.0000, 0.0000, 0.0000, 0.0000, 0.0000, 0.0000, 0.0000,\n",
       "           0.0000, 0.0000, 0.0000, 0.5451, 0.9922, 0.7451, 0.0078, 0.0000,\n",
       "           0.0000, 0.0000, 0.0000, 0.0000, 0.0000, 0.0000, 0.0000, 0.0000,\n",
       "           0.0000, 0.0000, 0.0000, 0.0000],\n",
       "          [0.0000, 0.0000, 0.0000, 0.0000, 0.0000, 0.0000, 0.0000, 0.0000,\n",
       "           0.0000, 0.0000, 0.0000, 0.0431, 0.7451, 0.9922, 0.2745, 0.0000,\n",
       "           0.0000, 0.0000, 0.0000, 0.0000, 0.0000, 0.0000, 0.0000, 0.0000,\n",
       "           0.0000, 0.0000, 0.0000, 0.0000],\n",
       "          [0.0000, 0.0000, 0.0000, 0.0000, 0.0000, 0.0000, 0.0000, 0.0000,\n",
       "           0.0000, 0.0000, 0.0000, 0.0000, 0.1373, 0.9451, 0.8824, 0.6275,\n",
       "           0.4235, 0.0039, 0.0000, 0.0000, 0.0000, 0.0000, 0.0000, 0.0000,\n",
       "           0.0000, 0.0000, 0.0000, 0.0000],\n",
       "          [0.0000, 0.0000, 0.0000, 0.0000, 0.0000, 0.0000, 0.0000, 0.0000,\n",
       "           0.0000, 0.0000, 0.0000, 0.0000, 0.0000, 0.3176, 0.9412, 0.9922,\n",
       "           0.9922, 0.4667, 0.0980, 0.0000, 0.0000, 0.0000, 0.0000, 0.0000,\n",
       "           0.0000, 0.0000, 0.0000, 0.0000],\n",
       "          [0.0000, 0.0000, 0.0000, 0.0000, 0.0000, 0.0000, 0.0000, 0.0000,\n",
       "           0.0000, 0.0000, 0.0000, 0.0000, 0.0000, 0.0000, 0.1765, 0.7294,\n",
       "           0.9922, 0.9922, 0.5882, 0.1059, 0.0000, 0.0000, 0.0000, 0.0000,\n",
       "           0.0000, 0.0000, 0.0000, 0.0000],\n",
       "          [0.0000, 0.0000, 0.0000, 0.0000, 0.0000, 0.0000, 0.0000, 0.0000,\n",
       "           0.0000, 0.0000, 0.0000, 0.0000, 0.0000, 0.0000, 0.0000, 0.0627,\n",
       "           0.3647, 0.9882, 0.9922, 0.7333, 0.0000, 0.0000, 0.0000, 0.0000,\n",
       "           0.0000, 0.0000, 0.0000, 0.0000],\n",
       "          [0.0000, 0.0000, 0.0000, 0.0000, 0.0000, 0.0000, 0.0000, 0.0000,\n",
       "           0.0000, 0.0000, 0.0000, 0.0000, 0.0000, 0.0000, 0.0000, 0.0000,\n",
       "           0.0000, 0.9765, 0.9922, 0.9765, 0.2510, 0.0000, 0.0000, 0.0000,\n",
       "           0.0000, 0.0000, 0.0000, 0.0000],\n",
       "          [0.0000, 0.0000, 0.0000, 0.0000, 0.0000, 0.0000, 0.0000, 0.0000,\n",
       "           0.0000, 0.0000, 0.0000, 0.0000, 0.0000, 0.0000, 0.1804, 0.5098,\n",
       "           0.7176, 0.9922, 0.9922, 0.8118, 0.0078, 0.0000, 0.0000, 0.0000,\n",
       "           0.0000, 0.0000, 0.0000, 0.0000],\n",
       "          [0.0000, 0.0000, 0.0000, 0.0000, 0.0000, 0.0000, 0.0000, 0.0000,\n",
       "           0.0000, 0.0000, 0.0000, 0.0000, 0.1529, 0.5804, 0.8980, 0.9922,\n",
       "           0.9922, 0.9922, 0.9804, 0.7137, 0.0000, 0.0000, 0.0000, 0.0000,\n",
       "           0.0000, 0.0000, 0.0000, 0.0000],\n",
       "          [0.0000, 0.0000, 0.0000, 0.0000, 0.0000, 0.0000, 0.0000, 0.0000,\n",
       "           0.0000, 0.0000, 0.0941, 0.4471, 0.8667, 0.9922, 0.9922, 0.9922,\n",
       "           0.9922, 0.7882, 0.3059, 0.0000, 0.0000, 0.0000, 0.0000, 0.0000,\n",
       "           0.0000, 0.0000, 0.0000, 0.0000],\n",
       "          [0.0000, 0.0000, 0.0000, 0.0000, 0.0000, 0.0000, 0.0000, 0.0000,\n",
       "           0.0902, 0.2588, 0.8353, 0.9922, 0.9922, 0.9922, 0.9922, 0.7765,\n",
       "           0.3176, 0.0078, 0.0000, 0.0000, 0.0000, 0.0000, 0.0000, 0.0000,\n",
       "           0.0000, 0.0000, 0.0000, 0.0000],\n",
       "          [0.0000, 0.0000, 0.0000, 0.0000, 0.0000, 0.0000, 0.0706, 0.6706,\n",
       "           0.8588, 0.9922, 0.9922, 0.9922, 0.9922, 0.7647, 0.3137, 0.0353,\n",
       "           0.0000, 0.0000, 0.0000, 0.0000, 0.0000, 0.0000, 0.0000, 0.0000,\n",
       "           0.0000, 0.0000, 0.0000, 0.0000],\n",
       "          [0.0000, 0.0000, 0.0000, 0.0000, 0.2157, 0.6745, 0.8863, 0.9922,\n",
       "           0.9922, 0.9922, 0.9922, 0.9569, 0.5216, 0.0431, 0.0000, 0.0000,\n",
       "           0.0000, 0.0000, 0.0000, 0.0000, 0.0000, 0.0000, 0.0000, 0.0000,\n",
       "           0.0000, 0.0000, 0.0000, 0.0000],\n",
       "          [0.0000, 0.0000, 0.0000, 0.0000, 0.5333, 0.9922, 0.9922, 0.9922,\n",
       "           0.8314, 0.5294, 0.5176, 0.0627, 0.0000, 0.0000, 0.0000, 0.0000,\n",
       "           0.0000, 0.0000, 0.0000, 0.0000, 0.0000, 0.0000, 0.0000, 0.0000,\n",
       "           0.0000, 0.0000, 0.0000, 0.0000],\n",
       "          [0.0000, 0.0000, 0.0000, 0.0000, 0.0000, 0.0000, 0.0000, 0.0000,\n",
       "           0.0000, 0.0000, 0.0000, 0.0000, 0.0000, 0.0000, 0.0000, 0.0000,\n",
       "           0.0000, 0.0000, 0.0000, 0.0000, 0.0000, 0.0000, 0.0000, 0.0000,\n",
       "           0.0000, 0.0000, 0.0000, 0.0000],\n",
       "          [0.0000, 0.0000, 0.0000, 0.0000, 0.0000, 0.0000, 0.0000, 0.0000,\n",
       "           0.0000, 0.0000, 0.0000, 0.0000, 0.0000, 0.0000, 0.0000, 0.0000,\n",
       "           0.0000, 0.0000, 0.0000, 0.0000, 0.0000, 0.0000, 0.0000, 0.0000,\n",
       "           0.0000, 0.0000, 0.0000, 0.0000],\n",
       "          [0.0000, 0.0000, 0.0000, 0.0000, 0.0000, 0.0000, 0.0000, 0.0000,\n",
       "           0.0000, 0.0000, 0.0000, 0.0000, 0.0000, 0.0000, 0.0000, 0.0000,\n",
       "           0.0000, 0.0000, 0.0000, 0.0000, 0.0000, 0.0000, 0.0000, 0.0000,\n",
       "           0.0000, 0.0000, 0.0000, 0.0000]]]), 5)"
      ]
     },
     "execution_count": 8,
     "metadata": {},
     "output_type": "execute_result"
    }
   ],
   "source": [
    "train_dataset[0]"
   ]
  },
  {
   "cell_type": "code",
   "execution_count": 9,
   "metadata": {},
   "outputs": [
    {
     "data": {
      "text/plain": [
       "tuple"
      ]
     },
     "execution_count": 9,
     "metadata": {},
     "output_type": "execute_result"
    }
   ],
   "source": [
    "type(train_dataset[0])"
   ]
  },
  {
   "cell_type": "code",
   "execution_count": 10,
   "metadata": {},
   "outputs": [
    {
     "data": {
      "text/plain": [
       "torch.Size([1, 28, 28])"
      ]
     },
     "execution_count": 10,
     "metadata": {},
     "output_type": "execute_result"
    }
   ],
   "source": [
    "# Input Matrix\n",
    "train_dataset[0][0].size()"
   ]
  },
  {
   "cell_type": "code",
   "execution_count": 11,
   "metadata": {},
   "outputs": [
    {
     "data": {
      "text/plain": [
       "5"
      ]
     },
     "execution_count": 11,
     "metadata": {},
     "output_type": "execute_result"
    }
   ],
   "source": [
    "# Label\n",
    "train_dataset[0][1]"
   ]
  },
  {
   "cell_type": "code",
   "execution_count": 12,
   "metadata": {},
   "outputs": [],
   "source": [
    "import matplotlib.pyplot as plt\n",
    "%matplotlib inline  \n",
    "import numpy as np"
   ]
  },
  {
   "cell_type": "code",
   "execution_count": 13,
   "metadata": {},
   "outputs": [
    {
     "data": {
      "text/plain": [
       "(1, 28, 28)"
      ]
     },
     "execution_count": 13,
     "metadata": {},
     "output_type": "execute_result"
    }
   ],
   "source": [
    "train_dataset[0][0].numpy().shape"
   ]
  },
  {
   "cell_type": "code",
   "execution_count": 19,
   "metadata": {},
   "outputs": [],
   "source": [
    "show_img = train_dataset[0][0].numpy().reshape(28, 28)"
   ]
  },
  {
   "cell_type": "code",
   "execution_count": 20,
   "metadata": {},
   "outputs": [
    {
     "data": {
      "text/plain": [
       "<matplotlib.image.AxesImage at 0x2c685ce7358>"
      ]
     },
     "execution_count": 20,
     "metadata": {},
     "output_type": "execute_result"
    },
    {
     "data": {
      "image/png": "[encoded data removed]",
      "text/plain": [
       "<Figure size 432x288 with 1 Axes>"
      ]
     },
     "metadata": {
      "needs_background": "light"
     },
     "output_type": "display_data"
    }
   ],
   "source": [
    "plt.imshow(show_img, cmap='gray')"
   ]
  },
  {
   "cell_type": "code",
   "execution_count": 21,
   "metadata": {},
   "outputs": [],
   "source": [
    "show_img = train_dataset[1][0].numpy().reshape(28, 28)"
   ]
  },
  {
   "cell_type": "code",
   "execution_count": 22,
   "metadata": {},
   "outputs": [
    {
     "data": {
      "text/plain": [
       "<matplotlib.image.AxesImage at 0x2c685d3add8>"
      ]
     },
     "execution_count": 22,
     "metadata": {},
     "output_type": "execute_result"
    },
    {
     "data": {
      "image/png": "[encoded data removed]",
      "text/plain": [
       "<Figure size 432x288 with 1 Axes>"
      ]
     },
     "metadata": {
      "needs_background": "light"
     },
     "output_type": "display_data"
    }
   ],
   "source": [
    "plt.imshow(show_img, cmap='gray')"
   ]
  },
  {
   "cell_type": "code",
   "execution_count": 23,
   "metadata": {},
   "outputs": [
    {
     "data": {
      "text/plain": [
       "0"
      ]
     },
     "execution_count": 23,
     "metadata": {},
     "output_type": "execute_result"
    }
   ],
   "source": [
    "# Label\n",
    "train_dataset[1][1]"
   ]
  },
  {
   "cell_type": "code",
   "execution_count": 24,
   "metadata": {},
   "outputs": [],
   "source": [
    "test_dataset = dsets.MNIST(root='./data', \n",
    "                           train=False, \n",
    "                           transform=transforms.ToTensor())"
   ]
  },
  {
   "cell_type": "code",
   "execution_count": 25,
   "metadata": {},
   "outputs": [
    {
     "data": {
      "text/plain": [
       "10000"
      ]
     },
     "execution_count": 25,
     "metadata": {},
     "output_type": "execute_result"
    }
   ],
   "source": [
    "len(test_dataset)"
   ]
  },
  {
   "cell_type": "code",
   "execution_count": 26,
   "metadata": {},
   "outputs": [
    {
     "data": {
      "text/plain": [
       "tuple"
      ]
     },
     "execution_count": 26,
     "metadata": {},
     "output_type": "execute_result"
    }
   ],
   "source": [
    "type(test_dataset[0])"
   ]
  },
  {
   "cell_type": "code",
   "execution_count": 27,
   "metadata": {},
   "outputs": [
    {
     "data": {
      "text/plain": [
       "torch.Size([1, 28, 28])"
      ]
     },
     "execution_count": 27,
     "metadata": {},
     "output_type": "execute_result"
    }
   ],
   "source": [
    "# Image matrix\n",
    "test_dataset[0][0].size()"
   ]
  },
  {
   "cell_type": "code",
   "execution_count": 28,
   "metadata": {},
   "outputs": [
    {
     "data": {
      "text/plain": [
       "<matplotlib.image.AxesImage at 0x2c685d96fd0>"
      ]
     },
     "execution_count": 28,
     "metadata": {},
     "output_type": "execute_result"
    },
    {
     "data": {
      "image/png": "[encoded data removed]",
      "text/plain": [
       "<Figure size 432x288 with 1 Axes>"
      ]
     },
     "metadata": {
      "needs_background": "light"
     },
     "output_type": "display_data"
    }
   ],
   "source": [
    "show_img = test_dataset[0][0].numpy().reshape(28, 28)\n",
    "plt.imshow(show_img, cmap='gray')"
   ]
  },
  {
   "cell_type": "code",
   "execution_count": 29,
   "metadata": {},
   "outputs": [
    {
     "data": {
      "text/plain": [
       "7"
      ]
     },
     "execution_count": 29,
     "metadata": {},
     "output_type": "execute_result"
    }
   ],
   "source": [
    "# Label\n",
    "test_dataset[0][1]"
   ]
  },
  {
   "cell_type": "code",
   "execution_count": 31,
   "metadata": {},
   "outputs": [
    {
     "data": {
      "text/plain": [
       "60000"
      ]
     },
     "execution_count": 31,
     "metadata": {},
     "output_type": "execute_result"
    }
   ],
   "source": [
    "len(train_dataset)"
   ]
  },
  {
   "cell_type": "code",
   "execution_count": 32,
   "metadata": {},
   "outputs": [],
   "source": [
    "batch_size = 100"
   ]
  },
  {
   "cell_type": "code",
   "execution_count": 33,
   "metadata": {},
   "outputs": [],
   "source": [
    "n_iters = 3000"
   ]
  },
  {
   "cell_type": "code",
   "execution_count": 34,
   "metadata": {},
   "outputs": [
    {
     "data": {
      "text/plain": [
       "5"
      ]
     },
     "execution_count": 34,
     "metadata": {},
     "output_type": "execute_result"
    }
   ],
   "source": [
    "num_epochs = n_iters / (len(train_dataset) / batch_size)\n",
    "num_epochs = int(num_epochs)\n",
    "num_epochs"
   ]
  },
  {
   "cell_type": "code",
   "execution_count": 35,
   "metadata": {},
   "outputs": [],
   "source": [
    "train_loader = torch.utils.data.DataLoader(dataset=train_dataset, \n",
    "                                           batch_size=batch_size, \n",
    "                                           shuffle=True)"
   ]
  },
  {
   "cell_type": "code",
   "execution_count": 36,
   "metadata": {},
   "outputs": [
    {
     "data": {
      "text/plain": [
       "True"
      ]
     },
     "execution_count": 36,
     "metadata": {},
     "output_type": "execute_result"
    }
   ],
   "source": [
    "import collections\n",
    "isinstance(train_loader, collections.Iterable)"
   ]
  },
  {
   "cell_type": "code",
   "execution_count": 37,
   "metadata": {},
   "outputs": [],
   "source": [
    "# Iterable object\n",
    "test_loader = torch.utils.data.DataLoader(dataset=test_dataset, \n",
    "                                          batch_size=batch_size, \n",
    "                                          shuffle=False)"
   ]
  },
  {
   "cell_type": "code",
   "execution_count": 38,
   "metadata": {},
   "outputs": [
    {
     "data": {
      "text/plain": [
       "True"
      ]
     },
     "execution_count": 38,
     "metadata": {},
     "output_type": "execute_result"
    }
   ],
   "source": [
    "isinstance(test_loader, collections.Iterable)"
   ]
  },
  {
   "cell_type": "code",
   "execution_count": 39,
   "metadata": {},
   "outputs": [],
   "source": [
    "img_1 = np.ones((28, 28))\n",
    "img_2 = np.ones((28, 28))\n",
    "lst = [img_1, img_2]"
   ]
  },
  {
   "cell_type": "code",
   "execution_count": 40,
   "metadata": {},
   "outputs": [
    {
     "name": "stdout",
     "output_type": "stream",
     "text": [
      "(28, 28)\n",
      "(28, 28)\n"
     ]
    }
   ],
   "source": [
    "# Need to iterate\n",
    "# Think of numbers as the images\n",
    "for i in lst:\n",
    "    print(i.shape)"
   ]
  },
  {
   "cell_type": "code",
   "execution_count": 41,
   "metadata": {},
   "outputs": [],
   "source": [
    "# Same as linear regression! \n",
    "class LogisticRegressionModel(nn.Module):\n",
    "    def __init__(self, input_dim, output_dim):\n",
    "        super(LogisticRegressionModel, self).__init__()\n",
    "        self.linear = nn.Linear(input_dim, output_dim)\n",
    "\n",
    "    def forward(self, x):\n",
    "        out = self.linear(x)\n",
    "        return out"
   ]
  },
  {
   "cell_type": "code",
   "execution_count": 42,
   "metadata": {},
   "outputs": [
    {
     "data": {
      "text/plain": [
       "torch.Size([1, 28, 28])"
      ]
     },
     "execution_count": 42,
     "metadata": {},
     "output_type": "execute_result"
    }
   ],
   "source": [
    "# Size of images\n",
    "train_dataset[0][0].size()"
   ]
  },
  {
   "cell_type": "code",
   "execution_count": 43,
   "metadata": {},
   "outputs": [],
   "source": [
    "input_dim = 28*28\n",
    "output_dim = 10\n",
    "\n",
    "model = LogisticRegressionModel(input_dim, output_dim)"
   ]
  },
  {
   "cell_type": "code",
   "execution_count": 44,
   "metadata": {},
   "outputs": [],
   "source": [
    "criterion = nn.CrossEntropyLoss()  "
   ]
  },
  {
   "cell_type": "code",
   "execution_count": 45,
   "metadata": {},
   "outputs": [],
   "source": [
    "learning_rate = 0.001\n",
    "\n",
    "optimizer = torch.optim.SGD(model.parameters(), lr=learning_rate)  "
   ]
  },
  {
   "cell_type": "code",
   "execution_count": 46,
   "metadata": {},
   "outputs": [
    {
     "name": "stdout",
     "output_type": "stream",
     "text": [
      "<generator object Module.parameters at 0x000002C6865741A8>\n",
      "2\n",
      "torch.Size([10, 784])\n",
      "torch.Size([10])\n"
     ]
    }
   ],
   "source": [
    "# Type of parameter object\n",
    "print(model.parameters())\n",
    "\n",
    "# Length of parameters\n",
    "print(len(list(model.parameters())))\n",
    "\n",
    "# FC 1 Parameters \n",
    "print(list(model.parameters())[0].size())\n",
    "\n",
    "# FC 1 Bias Parameters\n",
    "print(list(model.parameters())[1].size())"
   ]
  },
  {
   "cell_type": "code",
   "execution_count": 47,
   "metadata": {},
   "outputs": [
    {
     "name": "stdout",
     "output_type": "stream",
     "text": [
      "Iteration: 500. Loss: 1.8506407737731934. Accuracy: 68\n",
      "Iteration: 1000. Loss: 1.4446786642074585. Accuracy: 76\n",
      "Iteration: 1500. Loss: 1.4292418956756592. Accuracy: 79\n",
      "Iteration: 2000. Loss: 1.2292312383651733. Accuracy: 80\n",
      "Iteration: 2500. Loss: 1.1731168031692505. Accuracy: 81\n",
      "Iteration: 3000. Loss: 1.0112693309783936. Accuracy: 82\n"
     ]
    }
   ],
   "source": [
    "iter = 0\n",
    "for epoch in range(num_epochs):\n",
    "    for i, (images, labels) in enumerate(train_loader):\n",
    "        # Load images as Variable\n",
    "        images = images.view(-1, 28*28).requires_grad_()\n",
    "        labels = labels\n",
    "\n",
    "        # Clear gradients w.r.t. parameters\n",
    "        optimizer.zero_grad()\n",
    "\n",
    "        # Forward pass to get output/logits\n",
    "        outputs = model(images)\n",
    "\n",
    "        # Calculate Loss: softmax --> cross entropy loss\n",
    "        loss = criterion(outputs, labels)\n",
    "\n",
    "        # Getting gradients w.r.t. parameters\n",
    "        loss.backward()\n",
    "\n",
    "        # Updating parameters\n",
    "        optimizer.step()\n",
    "\n",
    "        iter += 1\n",
    "\n",
    "        if iter % 500 == 0:\n",
    "            # Calculate Accuracy         \n",
    "            correct = 0\n",
    "            total = 0\n",
    "            # Iterate through test dataset\n",
    "            for images, labels in test_loader:\n",
    "                # Load images to a Torch Variable\n",
    "                images = images.view(-1, 28*28).requires_grad_()\n",
    "\n",
    "                # Forward pass only to get logits/output\n",
    "                outputs = model(images)\n",
    "\n",
    "                # Get predictions from the maximum value\n",
    "                _, predicted = torch.max(outputs.data, 1)\n",
    "\n",
    "                # Total number of labels\n",
    "                total += labels.size(0)\n",
    "\n",
    "                # Total correct predictions\n",
    "                correct += (predicted == labels).sum()\n",
    "\n",
    "            accuracy = 100 * correct / total\n",
    "\n",
    "            # Print Loss\n",
    "            print('Iteration: {}. Loss: {}. Accuracy: {}'.format(iter, loss.item(), accuracy))"
   ]
  },
  {
   "cell_type": "code",
   "execution_count": 48,
   "metadata": {},
   "outputs": [
    {
     "name": "stdout",
     "output_type": "stream",
     "text": [
      "OUTPUTS\n",
      "tensor([[-4.0371e-01, -1.2577e+00, -5.1969e-01, -2.8478e-01,  1.5533e-01,\n",
      "         -2.4991e-01, -1.0205e+00,  2.7804e+00, -1.6264e-01,  9.6618e-01],\n",
      "        [ 3.7209e-01,  1.7800e-01,  1.6599e+00,  9.2174e-01, -1.8457e+00,\n",
      "          6.0768e-01,  9.9982e-01, -1.6569e+00,  4.9124e-01, -1.5809e+00],\n",
      "        [-9.9206e-01,  2.2815e+00,  8.4864e-02,  9.9168e-02, -8.0628e-01,\n",
      "         -2.2178e-01, -3.2197e-01, -2.1472e-01,  1.3656e-01, -3.1001e-01],\n",
      "        [ 2.5664e+00, -2.2699e+00, -2.1983e-01, -4.2436e-01, -9.8718e-01,\n",
      "          4.0219e-01,  1.0997e+00,  1.0076e-01, -4.7349e-01, -4.3481e-01],\n",
      "        [-2.9084e-01, -2.0509e+00,  2.5276e-01, -7.5672e-01,  1.7094e+00,\n",
      "         -4.2272e-01,  7.1050e-02,  4.6206e-01, -1.5198e-01,  6.5885e-01],\n",
      "        [-1.4082e+00,  2.7252e+00,  3.9151e-02,  2.1779e-01, -8.4683e-01,\n",
      "         -3.7758e-01, -9.2629e-01, -8.9641e-02,  3.1027e-01, -2.0194e-01],\n",
      "        [-1.2890e+00, -1.3379e+00, -1.0261e+00,  2.7387e-02,  1.5121e+00,\n",
      "          3.3516e-01, -8.7892e-01,  6.6466e-01,  6.3292e-01,  7.8278e-01],\n",
      "        [-1.3833e+00, -2.9641e-01, -7.1752e-01, -9.7639e-02,  5.0007e-01,\n",
      "          2.9182e-01,  2.5257e-01, -4.3148e-01, -6.7678e-02,  1.1983e+00],\n",
      "        [ 3.8286e-01, -4.3546e-01,  7.7213e-01, -1.2742e+00,  4.4579e-01,\n",
      "          2.5814e-01,  7.5446e-01, -8.1975e-01,  8.3965e-02, -1.2813e-01],\n",
      "        [-6.1459e-01, -1.0642e+00, -1.2142e+00, -1.3764e+00,  9.5153e-01,\n",
      "         -7.1816e-02, -6.3462e-01,  1.5789e+00,  1.4522e-02,  1.8814e+00],\n",
      "        [ 3.0506e+00, -1.9472e+00,  4.6238e-01,  9.7972e-01, -1.0285e+00,\n",
      "          1.1443e+00, -7.6729e-01, -1.4263e+00,  5.4604e-01, -1.7531e+00],\n",
      "        [ 7.2640e-01, -7.2461e-01,  4.0736e-01, -1.7453e-01,  1.0095e-01,\n",
      "         -2.2119e-01,  3.4241e-01, -1.0040e+00,  1.7344e-01, -6.8510e-01],\n",
      "        [-8.1077e-01, -1.6942e+00, -9.4447e-01, -1.1769e+00,  1.4911e+00,\n",
      "         -7.4086e-03, -4.4642e-01,  9.5801e-01,  2.6145e-01,  2.0498e+00],\n",
      "        [ 2.8841e+00, -2.6523e+00, -2.3568e-01, -3.0837e-01, -3.1830e-01,\n",
      "          4.7575e-01, -4.0712e-01, -8.7202e-01,  3.3279e-01,  5.8784e-02],\n",
      "        [-1.4552e+00,  2.6673e+00, -1.2963e-01,  4.2313e-01, -1.2631e+00,\n",
      "         -3.1156e-01, -1.1945e-01, -2.6231e-01,  3.4459e-01, -3.2022e-01],\n",
      "        [ 3.3112e-01, -8.4561e-01, -3.3980e-02,  1.3532e+00, -6.0478e-01,\n",
      "          7.9687e-01, -3.7911e-01, -7.6773e-01,  4.7588e-01, -9.7900e-01],\n",
      "        [-5.5431e-01, -2.1845e+00, -5.5072e-02, -7.5662e-01,  1.3196e+00,\n",
      "         -6.8646e-01, -2.4591e-01,  9.0527e-01,  6.6671e-02,  1.4335e+00],\n",
      "        [ 7.8190e-02, -1.6096e+00, -6.3796e-01,  3.5673e-01, -1.6950e-01,\n",
      "         -2.9306e-01, -7.5555e-01,  2.5936e+00, -4.0242e-01,  6.0497e-01],\n",
      "        [-9.1961e-01, -3.5462e-01,  1.0527e-01,  1.2049e+00, -5.5314e-01,\n",
      "          3.4868e-01,  5.6272e-01, -8.7868e-01,  5.0912e-02, -5.4733e-01],\n",
      "        [-9.2870e-01, -1.8487e+00, -4.9284e-01, -3.1754e-01,  1.7855e+00,\n",
      "          4.8256e-02, -1.8282e-01, -3.5411e-02, -1.0499e-01,  1.4421e+00],\n",
      "        [-9.2456e-01, -3.0404e-01, -1.5837e+00, -1.3194e-01,  4.3909e-01,\n",
      "          3.0115e-01, -1.3201e+00,  1.5872e+00,  2.0561e-01,  1.4779e+00],\n",
      "        [-6.9133e-01, -1.4692e+00, -4.0486e-02,  1.9162e-01,  1.9790e-01,\n",
      "          4.3163e-01,  2.0663e+00, -1.3004e+00,  8.9859e-02, -9.4594e-02],\n",
      "        [-3.9448e-01,  6.8496e-02,  3.7764e-01, -7.8524e-01,  8.2452e-01,\n",
      "         -8.5877e-01,  9.1180e-01, -1.1243e-01, -2.0374e-01, -5.6106e-02],\n",
      "        [ 5.8651e-02, -8.7997e-01, -6.7743e-01,  5.5326e-01, -2.0205e-01,\n",
      "          1.3130e+00,  2.9129e-01, -8.2663e-01,  7.8946e-01, -1.0006e-01],\n",
      "        [-7.1152e-01, -1.2492e+00,  8.2419e-02, -1.5415e-01,  1.2416e+00,\n",
      "         -2.8890e-01, -2.1820e-01,  3.2664e-01, -4.3090e-01,  7.9730e-01],\n",
      "        [ 3.9015e+00, -3.0010e+00,  4.5421e-01, -1.2668e+00, -4.8339e-01,\n",
      "          1.1786e+00,  7.8253e-01, -7.6630e-01, -2.0504e-01, -1.3614e+00],\n",
      "        [-2.1536e-01, -1.1515e+00, -6.6632e-01,  5.2469e-03,  3.3918e-01,\n",
      "         -2.7995e-01, -3.9881e-01,  1.8691e+00, -3.9719e-01,  9.7186e-01],\n",
      "        [-4.8131e-01, -2.4256e+00, -3.8178e-01, -8.8169e-01,  2.3372e+00,\n",
      "         -6.3294e-02,  1.8666e-01, -2.5152e-01, -2.3854e-02,  1.3374e+00],\n",
      "        [ 2.6593e+00, -2.4263e+00,  1.0506e-01,  8.0823e-01, -1.1564e+00,\n",
      "          5.5118e-01, -2.9967e-01, -7.8365e-01,  4.8934e-01, -7.0603e-01],\n",
      "        [-1.0543e+00,  1.4947e+00, -2.7641e-01,  6.9250e-02, -7.0221e-01,\n",
      "          4.9267e-02, -4.0609e-02, -2.7850e-01,  3.8382e-01, -3.6746e-01],\n",
      "        [-1.0385e+00, -5.4111e-02, -1.0142e+00,  2.2077e+00, -1.4412e+00,\n",
      "          8.1458e-01, -3.6252e-01,  4.9633e-01,  2.4975e-01, -1.3121e-02],\n",
      "        [-9.8004e-01,  1.0334e+00, -4.2644e-01,  3.3881e-01, -4.9566e-01,\n",
      "         -8.2120e-02, -9.3855e-02, -7.9603e-02,  8.4699e-02,  1.0597e-01],\n",
      "        [-9.4566e-01, -6.2435e-01, -6.6811e-01,  2.2995e+00, -4.9438e-01,\n",
      "          1.2296e+00, -4.5212e-01, -1.1168e+00,  5.7012e-01, -3.0852e-02],\n",
      "        [ 1.7038e+00, -1.9027e+00,  5.7303e-01, -1.7394e+00,  5.5058e-01,\n",
      "          3.9183e-01,  1.1784e+00, -9.8032e-01, -2.8816e-01, -4.1753e-01],\n",
      "        [-1.1167e+00, -4.0451e-01,  7.1955e-01, -5.5888e-01, -3.2398e-01,\n",
      "         -6.1165e-01, -1.5662e+00,  1.8680e+00,  6.2618e-01,  4.6207e-01],\n",
      "        [ 2.7985e-01, -1.0368e+00,  2.3607e+00,  3.2801e-01, -8.1962e-01,\n",
      "         -3.0183e-01,  4.9549e-01, -5.8129e-01,  3.8478e-01, -2.0043e+00],\n",
      "        [-5.2644e-01, -1.4034e+00, -7.4225e-02, -1.3823e-01, -4.5792e-02,\n",
      "         -3.4985e-01, -5.6576e-01,  2.6526e+00, -2.5736e-01,  9.6977e-01],\n",
      "        [-1.3257e+00,  2.1258e+00, -4.3805e-01,  3.7690e-02, -8.0055e-01,\n",
      "         -1.1892e-01, -2.0204e-01, -5.0459e-02,  3.6895e-01, -1.9217e-01],\n",
      "        [ 2.6244e-01,  5.3546e-01,  8.7327e-01,  1.3112e+00, -1.8533e+00,\n",
      "          2.4379e-01,  5.2497e-01, -1.0452e+00,  5.9645e-01, -1.5117e+00],\n",
      "        [-1.6239e+00,  2.9918e+00, -1.8659e-01,  3.0473e-01, -1.4291e+00,\n",
      "         -1.7859e-02, -2.7185e-01, -6.3795e-01,  7.4460e-01, -2.6741e-01],\n",
      "        [-7.6911e-01,  1.6425e+00, -8.6730e-02,  2.0247e-02, -6.1103e-01,\n",
      "         -2.3768e-01, -1.4350e-01, -2.0236e-01,  8.6257e-02, -3.0195e-01],\n",
      "        [-7.4288e-01, -8.9295e-01, -3.4276e-01, -4.8032e-01, -2.2841e-01,\n",
      "         -2.1764e-01, -4.5415e-01,  2.0428e+00, -2.5964e-01,  1.0849e+00],\n",
      "        [-2.0025e+00, -7.7028e-01, -4.3502e-01, -5.6504e-01,  1.9958e+00,\n",
      "         -5.9217e-01, -1.0938e+00,  3.6377e-01,  3.0390e-01,  1.5660e+00],\n",
      "        [-6.6562e-01,  8.0851e-01,  1.1130e+00, -1.0825e-01, -3.1593e-01,\n",
      "         -1.8079e-01,  1.3799e-01, -1.2534e+00,  2.4951e-01, -5.3702e-01],\n",
      "        [-1.1552e+00,  1.6852e-01, -2.1731e-01,  1.2028e+00, -9.4580e-01,\n",
      "          4.1626e-01,  3.6517e-01, -2.6032e-01,  1.2382e-01, -3.9643e-01],\n",
      "        [ 4.4840e-02, -1.2154e+00, -5.7865e-01,  1.4631e+00, -6.7492e-01,\n",
      "          1.3213e+00, -3.5171e-02, -1.2690e+00,  8.4914e-01, -6.3865e-01],\n",
      "        [-1.5978e+00,  2.3023e-01, -1.5984e-01,  7.4910e-01, -4.7612e-01,\n",
      "          3.5030e-01,  1.1606e-01, -3.2093e-01,  1.7991e-01,  1.3985e-01],\n",
      "        [-6.4685e-01, -4.6956e-01,  1.6146e+00, -6.0320e-01,  4.1615e-01,\n",
      "         -6.8200e-01,  4.7752e-01, -4.0164e-01, -1.9976e-02, -7.5498e-02],\n",
      "        [-1.0732e+00, -2.9317e+00, -1.4813e+00, -6.7639e-02,  2.8507e+00,\n",
      "          4.6711e-01, -8.7646e-01,  1.5150e-01,  4.3927e-01,  1.9349e+00],\n",
      "        [-3.6999e-01, -2.2320e+00,  4.3462e-01, -8.7544e-01,  2.0483e+00,\n",
      "         -9.3271e-01,  2.4928e-02,  1.6839e-01, -2.9501e-01,  9.6490e-01],\n",
      "        [ 1.1724e-02, -9.5193e-01,  1.0281e-01,  3.2814e-01, -4.1401e-01,\n",
      "          4.5796e-01,  2.0779e+00, -9.6497e-01, -1.7530e-01, -4.9809e-01],\n",
      "        [-9.1489e-02, -1.1732e+00, -1.8467e-01,  1.9012e+00, -6.2423e-01,\n",
      "          4.8373e-01, -2.9818e-03, -6.5335e-01, -1.2160e-01, -2.1056e-01],\n",
      "        [ 4.8184e-01, -1.2285e+00, -1.3427e+00,  5.1903e-02,  5.7090e-01,\n",
      "          1.4202e+00, -3.9018e-01, -2.7982e-01, -6.4534e-02,  4.6452e-01],\n",
      "        [ 2.1109e-01, -9.4555e-01, -3.6673e-01,  9.2599e-01,  3.6236e-02,\n",
      "          4.1261e-01, -1.1825e-01, -8.0571e-01,  2.9672e-01, -3.0994e-01],\n",
      "        [ 6.7930e-02, -4.5082e-01,  1.3121e+00, -2.0610e-01,  4.2322e-01,\n",
      "         -8.1400e-01,  4.9640e-01, -4.8633e-01,  1.4894e-02, -5.4977e-01],\n",
      "        [ 1.4607e+00, -2.1971e+00, -4.3650e-01,  3.7220e-01, -4.7976e-01,\n",
      "          7.3032e-01,  3.3984e-01, -1.0770e+00,  1.0273e+00, -3.0433e-01],\n",
      "        [-2.4201e-01, -2.8676e+00, -1.0886e-01, -6.5408e-01,  2.6462e+00,\n",
      "          5.9770e-02,  2.4017e-01, -3.1584e-01, -6.8703e-02,  1.0065e+00],\n",
      "        [-1.0294e+00,  2.3155e+00, -1.3589e-02,  3.5052e-01, -9.4958e-01,\n",
      "         -2.1489e-01, -6.3821e-01, -2.8002e-01,  2.7035e-01, -1.7102e-01],\n",
      "        [-2.5146e-01, -2.0536e+00, -9.6090e-01, -8.9690e-01,  1.7572e+00,\n",
      "         -1.7489e-01, -2.0679e-01,  9.8050e-01, -4.4837e-01,  2.1342e+00],\n",
      "        [ 2.8242e-02,  2.1800e-01, -6.7594e-01, -4.3966e-01,  2.7500e-01,\n",
      "          2.9645e-01, -2.4710e-01,  1.0600e-01,  7.3340e-02, -2.0049e-01],\n",
      "        [-2.9199e-01, -1.5270e+00, -8.3250e-01,  8.4072e-01,  2.7610e-01,\n",
      "         -1.4439e-01,  1.1877e-01,  2.0103e+00, -7.7467e-01,  6.0807e-01],\n",
      "        [ 5.6229e-02, -8.5113e-01,  1.1321e+00, -1.6294e+00, -3.8859e-01,\n",
      "         -1.1120e-01,  3.8620e-01, -8.5575e-01,  1.1437e+00,  1.7465e-01],\n",
      "        [-8.7843e-01, -1.0654e+00, -2.2425e-01, -4.4703e-01,  5.3915e-01,\n",
      "          5.0289e-02, -1.0676e-01, -2.5787e-01,  2.9523e-01,  8.4559e-01],\n",
      "        [-9.3476e-01, -3.1334e-01,  1.0301e+00,  6.0073e-01, -9.8108e-02,\n",
      "         -3.2291e-01, -4.1803e-01, -7.2727e-01,  4.8702e-01,  1.5559e-01],\n",
      "        [-1.2697e+00, -9.6864e-01,  3.3099e-01, -6.3270e-01,  8.4315e-01,\n",
      "         -4.5489e-01, -5.6966e-01,  1.5410e+00, -3.9971e-02,  7.9866e-01],\n",
      "        [-1.1932e+00, -7.4739e-01, -7.3000e-01,  4.5632e-01,  5.7651e-01,\n",
      "          4.5738e-01,  2.7073e-02, -3.6011e-01,  4.7258e-01,  7.5270e-01],\n",
      "        [ 4.4643e-01, -4.9227e-01,  5.3596e-01, -2.7502e-01,  2.2230e-01,\n",
      "         -7.3758e-01,  3.9030e-01,  2.3407e-02, -5.3491e-01, -3.8329e-01],\n",
      "        [-6.3173e-01, -1.5756e+00,  3.1203e-01, -1.2689e+00,  2.1957e+00,\n",
      "         -8.4283e-01, -2.3869e-01,  5.6356e-01, -4.6666e-02,  5.9283e-01],\n",
      "        [-1.2962e+00, -6.0664e-01, -4.0466e-01,  2.5841e+00, -6.3867e-01,\n",
      "          7.0756e-01, -1.0138e+00, -8.4319e-01,  9.2686e-01,  2.6796e-02],\n",
      "        [ 2.6431e+00, -1.3683e+00,  4.6799e-01, -4.6404e-01, -1.5720e+00,\n",
      "          5.5368e-01,  4.5631e-01,  6.0476e-02, -1.4986e-01, -5.4263e-01],\n",
      "        [ 3.7573e-01, -1.2612e+00, -8.9653e-01, -1.3310e-02, -1.0876e-01,\n",
      "         -3.8689e-01, -7.0873e-01,  2.5059e+00, -4.3428e-01,  4.6488e-01],\n",
      "        [ 4.3240e+00, -2.9202e+00,  8.3920e-01,  1.4050e-01, -1.2684e+00,\n",
      "          1.0196e+00, -2.5613e-01, -1.4652e+00,  2.9454e-01, -1.7580e+00],\n",
      "        [ 1.5409e+00, -1.2467e+00,  1.6840e+00,  1.3237e+00, -1.1479e+00,\n",
      "          1.3008e-01,  1.1626e-01, -9.3300e-01,  3.2085e-01, -1.9251e+00],\n",
      "        [-1.5710e+00,  6.7408e-01,  2.5335e-01, -3.0060e-02, -9.1730e-01,\n",
      "         -5.2478e-01, -1.0055e+00,  9.0932e-01,  1.0125e+00,  3.6159e-01],\n",
      "        [-1.5034e+00,  2.2922e+00, -4.6472e-01, -9.0661e-03, -1.0330e+00,\n",
      "         -6.0113e-02, -1.4872e-01, -2.2260e-01,  6.0807e-01, -2.6563e-01],\n",
      "        [-1.6980e+00,  4.3604e-01, -7.6406e-01, -7.7231e-01,  6.7540e-01,\n",
      "         -6.3544e-01, -1.0310e+00,  1.5064e+00, -1.1002e-01,  7.6571e-01],\n",
      "        [-4.3796e-01,  3.0368e-01, -2.0420e-01,  2.4473e+00, -1.1614e+00,\n",
      "          8.6142e-01, -5.7916e-01, -8.5717e-01,  4.8353e-01, -8.0788e-01],\n",
      "        [-8.9123e-01, -3.3305e-01,  6.1109e-01, -5.9751e-01, -2.4616e-01,\n",
      "         -7.6904e-01,  9.9142e-02,  1.8003e+00, -1.8796e-01,  4.1358e-01],\n",
      "        [-1.7453e+00,  9.1080e-01, -7.4924e-01, -4.4242e-03, -1.6367e-01,\n",
      "         -1.5227e-02, -8.5549e-01,  3.9519e-01,  7.8155e-01,  8.3907e-01],\n",
      "        [-8.3848e-01, -5.3239e-01, -7.5360e-01, -1.1928e+00, -2.1084e-01,\n",
      "         -6.3018e-01, -1.5952e+00,  3.2379e+00,  1.0352e-01,  7.8499e-01],\n",
      "        [-6.0080e-01, -1.8766e+00, -1.1954e+00, -1.2291e-01,  8.9055e-01,\n",
      "          5.4333e-01, -1.6581e-01,  1.4230e+00, -4.3846e-01,  1.6121e+00],\n",
      "        [-1.9347e-01, -1.8113e+00,  4.8198e-01, -5.9785e-01, -1.3796e-01,\n",
      "         -3.3124e-02,  2.5302e+00, -6.1216e-01, -3.5530e-01, -1.7547e-01],\n",
      "        [-8.7282e-01, -1.1892e+00,  3.6922e+00, -4.5055e-01, -4.4602e-01,\n",
      "         -1.2563e+00,  7.3996e-01, -1.1349e+00,  3.2014e-01, -1.4632e+00],\n",
      "        [-6.5856e-01, -1.9116e+00, -8.3471e-01,  7.8284e-03,  8.2294e-01,\n",
      "         -5.3950e-02, -7.2195e-01,  2.1624e+00, -2.6247e-01,  1.4302e+00],\n",
      "        [-8.8656e-01, -2.2915e-01, -6.3830e-01, -4.3665e-01,  5.5079e-01,\n",
      "          8.2353e-01, -4.5042e-01, -9.2916e-01,  1.0406e+00,  4.7647e-01],\n",
      "        [-1.0594e+00, -2.5884e+00, -9.2436e-01,  9.5244e-03,  2.9808e+00,\n",
      "          1.8630e-01, -2.4774e-01, -3.8106e-01,  3.4061e-02,  1.4653e+00],\n",
      "        [-1.9566e+00,  2.6717e-01, -3.8523e-01, -8.5635e-01, -3.2090e-01,\n",
      "         -8.6074e-01, -1.1316e+00,  2.9325e+00,  3.8940e-01,  1.0112e+00],\n",
      "        [-1.7552e-02, -1.4104e+00, -1.2086e+00,  1.8533e+00, -4.5071e-01,\n",
      "          1.3615e+00,  5.6547e-01, -6.9865e-01, -3.4658e-02,  6.6119e-02],\n",
      "        [-9.0276e-02, -2.0185e+00,  4.9325e-01, -1.1576e+00,  9.9583e-01,\n",
      "         -4.6966e-01,  2.1983e+00, -1.4424e-01, -5.1143e-01,  1.6662e-01],\n",
      "        [-1.6335e+00,  2.8508e+00,  3.2208e-01,  4.8446e-02, -8.9900e-01,\n",
      "         -4.1124e-01, -5.2913e-01, -3.7448e-01,  4.1715e-01, -5.7059e-01],\n",
      "        [ 2.6695e-01, -6.9130e-01, -1.1367e-01,  2.7269e+00, -1.3043e+00,\n",
      "          6.5365e-01, -1.2334e+00, -5.8938e-01,  5.8356e-01, -7.6388e-01],\n",
      "        [-1.0600e+00, -4.7624e-01,  1.2742e-01, -8.2870e-01,  3.6613e-01,\n",
      "         -3.3911e-01,  2.7227e+00, -1.2323e+00,  5.5169e-02,  1.5714e-02],\n",
      "        [-9.6927e-01, -6.6179e-03,  3.9408e-02, -6.2772e-01,  4.7726e-01,\n",
      "         -4.3973e-02, -2.5707e-01, -1.0272e-02,  7.0086e-01,  4.9848e-01],\n",
      "        [-9.7926e-01, -4.9524e-01, -9.0403e-01,  2.5608e+00, -1.7051e+00,\n",
      "          9.9469e-01, -1.0136e+00,  5.4882e-01,  6.5432e-01, -2.6089e-02],\n",
      "        [-2.1260e+00,  1.6870e+00, -2.9802e-01,  9.2836e-02, -8.0117e-01,\n",
      "         -8.0086e-02,  1.9142e-01, -5.6840e-01,  7.5444e-01, -2.4150e-01],\n",
      "        [-9.7239e-01, -8.1432e-01, -6.1451e-01, -1.4011e+00,  2.0260e+00,\n",
      "         -5.6577e-01,  1.7899e-01, -3.0856e-01, -2.3076e-01,  1.1551e+00],\n",
      "        [-1.0950e+00,  4.2810e-01, -5.3659e-01,  3.8908e-01, -2.9593e-01,\n",
      "          2.2773e-01, -8.2916e-02, -9.0998e-02,  2.0672e-01,  2.6421e-01],\n",
      "        [-2.1555e+00,  1.1895e+00, -7.8357e-01,  3.8079e-02, -3.9590e-01,\n",
      "         -5.6528e-02, -2.0178e-01,  6.6203e-01,  5.2269e-01,  6.8219e-01],\n",
      "        [ 7.9876e-01, -1.0691e+00,  8.2501e-01, -8.5789e-01, -5.2947e-01,\n",
      "          4.4480e-01,  1.8446e+00, -1.3481e+00, -4.3980e-02, -9.9564e-01],\n",
      "        [-1.3974e+00, -1.9345e+00,  7.4368e-02, -7.1991e-01,  1.4845e+00,\n",
      "         -9.7751e-01, -1.3827e-01,  9.1582e-01,  1.5109e-01,  1.9968e+00]],\n",
      "       grad_fn=<AddmmBackward>)\n"
     ]
    }
   ],
   "source": [
    "iter_test = 0\n",
    "for images, labels in test_loader:\n",
    "    iter_test += 1\n",
    "    images = images.view(-1, 28*28).requires_grad_()\n",
    "    outputs = model(images)\n",
    "    if iter_test == 1:\n",
    "        print('OUTPUTS')\n",
    "        print(outputs)\n",
    "    _, predicted = torch.max(outputs.data, 1)"
   ]
  },
  {
   "cell_type": "code",
   "execution_count": 49,
   "metadata": {},
   "outputs": [
    {
     "name": "stdout",
     "output_type": "stream",
     "text": [
      "OUTPUTS\n",
      "torch.Size([100, 10])\n"
     ]
    }
   ],
   "source": [
    "iter_test = 0\n",
    "for images, labels in test_loader:\n",
    "    iter_test += 1\n",
    "    images = images.view(-1, 28*28).requires_grad_()\n",
    "    outputs = model(images)\n",
    "    if iter_test == 1:\n",
    "        print('OUTPUTS')\n",
    "        print(outputs.size())\n",
    "    _, predicted = torch.max(outputs.data, 1)"
   ]
  },
  {
   "cell_type": "code",
   "execution_count": 50,
   "metadata": {},
   "outputs": [
    {
     "name": "stdout",
     "output_type": "stream",
     "text": [
      "PREDICTION\n",
      "tensor(7)\n"
     ]
    }
   ],
   "source": [
    "iter_test = 0\n",
    "for images, labels in test_loader:\n",
    "    iter_test += 1\n",
    "    images = images.view(-1, 28*28).requires_grad_()\n",
    "    outputs = model(images)\n",
    "    _, predicted = torch.max(outputs.data, 1)\n",
    "    if iter_test == 1:\n",
    "        print('PREDICTION')\n",
    "        print(predicted[0])"
   ]
  },
  {
   "cell_type": "code",
   "execution_count": 51,
   "metadata": {},
   "outputs": [
    {
     "name": "stdout",
     "output_type": "stream",
     "text": [
      "PREDICTION\n",
      "tensor(7)\n",
      "LABEL SIZE\n",
      "torch.Size([100])\n",
      "LABEL FOR IMAGE 0\n",
      "tensor(7)\n"
     ]
    }
   ],
   "source": [
    "iter_test = 0\n",
    "for images, labels in test_loader:\n",
    "    iter_test += 1\n",
    "    images = images.view(-1, 28*28).requires_grad_()\n",
    "    outputs = model(images)\n",
    "    _, predicted = torch.max(outputs.data, 1)\n",
    "    if iter_test == 1:\n",
    "        print('PREDICTION')\n",
    "        print(predicted[0])\n",
    "\n",
    "        print('LABEL SIZE')\n",
    "        print(labels.size())\n",
    "\n",
    "        print('LABEL FOR IMAGE 0')\n",
    "        print(labels[0])"
   ]
  },
  {
   "cell_type": "code",
   "execution_count": 52,
   "metadata": {},
   "outputs": [
    {
     "name": "stdout",
     "output_type": "stream",
     "text": [
      "PREDICTION\n",
      "tensor(2)\n",
      "LABEL SIZE\n",
      "torch.Size([100])\n",
      "LABEL FOR IMAGE 1\n",
      "tensor(2)\n"
     ]
    }
   ],
   "source": [
    "iter_test = 0\n",
    "for images, labels in test_loader:\n",
    "    iter_test += 1\n",
    "    images = images.view(-1, 28*28).requires_grad_()\n",
    "    outputs = model(images)\n",
    "    _, predicted = torch.max(outputs.data, 1)\n",
    "\n",
    "    if iter_test == 1:\n",
    "        print('PREDICTION')\n",
    "        print(predicted[1])\n",
    "\n",
    "        print('LABEL SIZE')\n",
    "        print(labels.size())\n",
    "\n",
    "        print('LABEL FOR IMAGE 1')\n",
    "        print(labels[1])"
   ]
  },
  {
   "cell_type": "code",
   "execution_count": 53,
   "metadata": {},
   "outputs": [
    {
     "name": "stdout",
     "output_type": "stream",
     "text": [
      "82.58\n"
     ]
    }
   ],
   "source": [
    "correct = 0\n",
    "total = 0\n",
    "iter_test = 0\n",
    "for images, labels in test_loader:\n",
    "    iter_test += 1\n",
    "    images = images.view(-1, 28*28).requires_grad_()\n",
    "    outputs = model(images)\n",
    "    _, predicted = torch.max(outputs.data, 1)\n",
    "\n",
    "    # Total number of labels\n",
    "    total += labels.size(0)\n",
    "\n",
    "    # Total correct predictions\n",
    "    correct += (predicted == labels).sum()\n",
    "\n",
    "accuracy = 100 * (correct.item() / total)\n",
    "\n",
    "print(accuracy)"
   ]
  },
  {
   "cell_type": "code",
   "execution_count": 54,
   "metadata": {},
   "outputs": [],
   "source": [
    "save_model = False\n",
    "if save_model is True:\n",
    "    # Saves only parameters\n",
    "    torch.save(model.state_dict(), 'awesome_model.pkl')"
   ]
  },
  {
   "cell_type": "code",
   "execution_count": null,
   "metadata": {},
   "outputs": [],
   "source": []
  }
 ],
 "metadata": {
  "kernelspec": {
   "display_name": "Python 3",
   "language": "python",
   "name": "python3"
  },
  "language_info": {
   "codemirror_mode": {
    "name": "ipython",
    "version": 3
   },
   "file_extension": ".py",
   "mimetype": "text/x-python",
   "name": "python",
   "nbconvert_exporter": "python",
   "pygments_lexer": "ipython3",
   "version": "3.6.6"
  }
 },
 "nbformat": 4,
 "nbformat_minor": 2
}
